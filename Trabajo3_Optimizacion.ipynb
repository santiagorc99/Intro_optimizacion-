{
  "nbformat": 4,
  "nbformat_minor": 0,
  "metadata": {
    "colab": {
      "name": "Trabajo3-Optimizacion.ipynb",
      "provenance": [],
      "collapsed_sections": [],
      "authorship_tag": "ABX9TyMkhmsXuaaJ2qhwoAvzYr2Y",
      "include_colab_link": true
    },
    "kernelspec": {
      "name": "python3",
      "display_name": "Python 3"
    }
  },
  "cells": [
    {
      "cell_type": "markdown",
      "metadata": {
        "id": "view-in-github",
        "colab_type": "text"
      },
      "source": [
        "<a href=\"https://colab.research.google.com/github/santiagorc99/Intro_optimizacion-/blob/main/Trabajo3_Optimizacion.ipynb\" target=\"_parent\"><img src=\"https://colab.research.google.com/assets/colab-badge.svg\" alt=\"Open In Colab\"/></a>"
      ]
    },
    {
      "cell_type": "markdown",
      "metadata": {
        "id": "NafVxy45_9CT"
      },
      "source": [
        "#### Santiago Rincón Carreño - 816052\r\n",
        "\r\n",
        "# **Introducción a la Optimización - Tercer Trabajo**\r\n",
        "## **Método de Newton**\r\n",
        "Es un método utilizado para encontrar un optimizador de una función polinómica de clase $C^m$. Gracias a la serie de Taylor, se puede representar cualquier función $p_m(\\mathbf{x})$ (Con $\\mathbf{x} \\in R^n $ como vector de variables independientes) en torno al punto $\\mathbf{a}$ de la siguiente forma:\r\n",
        "\r\n",
        "##### **Aproximación de grado 1**:\r\n",
        "$$p_1 = f(\\mathbf{a}) + {\\nabla f(\\mathbf{a})}^{T}(\\mathbf{x}-\\mathbf{a})$$\r\n",
        "##### **Aproximación de grado 2**:\r\n",
        "$$p_2 = f(\\mathbf{a}) + {\\nabla f(\\mathbf{a})}^{T}(\\mathbf{x}-\\mathbf{a})+\\frac{1}{2}(\\mathbf{x}-\\mathbf{a})^T\\mathbf{F}(\\mathbf{a})(\\mathbf{x}-\\mathbf{a})$$\r\n",
        "\r\n",
        "Donde $\\nabla f(\\mathbf{x})$ corresponde al gradiente de $f$ y $\\mathbf{F}(\\mathbf{x})$ corresponde al Hessiano del $f$.\r\n",
        "\r\n",
        "Se puede llegar a una solución iterativa para llegar a un optimizador de dicho polinomio de la siguiente manera:\r\n",
        "$$\\mathbf{x}_{k+1} = \\mathbf{x}_{k}-\\mathbf{H}(\\mathbf{x}_k)\\mathbf{g}(\\mathbf{x}_k)\\,\\,\\,\\,\\,\\,\\,\\,\\,\\, (1)$$\r\n",
        "Donde $\\mathbf{H}(\\mathbf{x}_k)={\\mathbf{F}(\\mathbf{x}_k)}^{-1}$ y $\\mathbf{g}(\\mathbf{x}_k)=\\nabla f(\\mathbf{x}_k)$.\r\n",
        "\r\n",
        "#### **Método de Newton para Funciones Cuadráticas**\r\n",
        "Si se tiene una función cuadrática de la siguiente forma:\r\n",
        "$$f(\\mathbf{x}) = \\mathbf{x}^T\\mathbf{A}\\mathbf{x}-\\mathbf{x}^T\\mathbf{b}$$\r\n",
        "Donde $\\mathbf{x} \\in R^{(n,1)}$, $\\mathbf{A} \\in R^{(n,n)}$ es una matriz no simétrica y $\\mathbf{b} \\in R^{(n,1)}$. Se puede hallar una matriz $\\mathbf{Q}$ simétrica que satisfaga la anterior ecuación, por lo que el problema puede ser reescrito como:\r\n",
        "$$f(\\mathbf{x}) = \\frac{1}{2}\\mathbf{x}^T\\mathbf{Q}\\mathbf{x}-\\mathbf{x}^T\\mathbf{b}$$\r\n",
        "Con $\\mathbf{Q}={\\mathbf{Q}}^T, \\mathbf{Q} \\in R^{(n,n)}>0$. Si se calcula el gradiente y el Hessiano se obtiene:\r\n",
        "$$\\mathbf{F}(\\mathbf{x})=\\mathbf{Q}$$\r\n",
        "$$\\nabla f(\\mathbf{x})=\\mathbf{Q}\\mathbf{x}-\\mathbf{b}$$\r\n",
        "Si se reemplazan dichos valores en $(1)$ para k=0, se obtiene que:\r\n",
        "$$\\mathbf{x}_{1}=\\mathbf{x}_0-{\\mathbf{F}(\\mathbf{x}_0)}^{-1}\\nabla f(\\mathbf{x}_0)$$\r\n",
        "$$\\mathbf{x}_{1} = \\mathbf{Q}^{-1}\\mathbf{b}$$\r\n",
        "Y de esta forma, en la primera iteración se llega al valor óptimo, se puede ver igualmente cuando se hace que $f(\\mathbf{x})=0$.\r\n",
        "\r\n",
        "Este método se restrige a que $\\mathbf{F}(\\mathbf{x})>0$, por ello se puede añadir un término de regularización que fuerce al cumplimiento de $\\mathbf{F}(\\mathbf{x})>0$. La ecuación queda de la forma:\r\n",
        "$$\\mathbf{x}_{k+1}=\\mathbf{x}_{k}-{(\\mathbf{F}(\\mathbf{x}_k)+\\mu_k\\mathbf{I})}^{-1}\\nabla f(\\mathbf{x}_k)$$\r\n",
        "Donde $I$ es la matriz identidad de tamaño $(n,n)$ y $\\mu_k$ es el factor de penalización.\r\n",
        "\r\n",
        "En este punto, la solución ya no converge en un solo paso, por lo que se puede añadir un término $\\alpha_k$ llamado *speed rate* que cambia la velocidad de convergencia del algoritmo. Reescribiendo el método se tiene que:\r\n",
        "$$\\mathbf{x}_{k+1}=\\mathbf{x}_{k}-\\alpha_k{(\\mathbf{F}(\\mathbf{x}_k)+\\mu_k\\mathbf{I})}^{-1}\\nabla f(\\mathbf{x}_k)$$\r\n",
        "$\\alpha_k$ es el optimizador de algún $\\phi(\\alpha_k)$.Bajo cualquier caso, el parámetro debe ser cercano a cero, porque puede haber divergencia en el algoritmo, es decir, que la solución final no lleve a un valor real.\r\n"
      ]
    },
    {
      "cell_type": "markdown",
      "metadata": {
        "id": "9vVqvbMvLBC5"
      },
      "source": [
        "## **Método Cuasi-Newton**\r\n",
        "Dada la dificultad de, en muchos casos, encontrar el Hessiano de una función puede convertirse en un problema no trivial y costoso (Computacionalmente hablando), por eso se propone una aproximación al Hessiano. Básicamente, cualquier método que aproxime el Hessiano en cada iteración y siga la estructura del método original de Newton y sus variantes, se dice un método Cuasi-Newton.\r\n",
        "\r\n",
        "Como se dijo anteriormente, el Hessiano no se calcula exactamente, sino que se hace actualiza con base en unos vectores gradiente. La aproximación se va a denotar por $\\mathbf{B}$ y no necesita ser invertida analíticamente, ya que solo se genera un estimado de su inversa. \r\n",
        "\r\n",
        "Luego, se tiene que:\r\n",
        "$$\\mathbf{x}_{k+1} = \\mathbf{x}_k + \\Delta \\mathbf{x}_k$$\r\n",
        "Donde $\\Delta \\mathbf{x}_k= -\\alpha_k\\mathbf{B}^{-1}_k\\nabla f(\\mathbf{x}_k)$. Se define un $\\Delta \\nabla f(\\mathbf{x}_k) = \\nabla f(\\mathbf{x}_{k+1})-\\nabla f(\\mathbf{x}_k)$.\r\n",
        "\r\n",
        "#### **Algoritmo de Davidon-Flectcher-Powell (DFP)**\r\n",
        "Es un método Cuasi-Newton que permite hallar el estimado del Hessiano de la siguiente forma:\r\n",
        "\r\n",
        "###### **Paso 1**  \r\n",
        "Escoger un punto inicial $\\mathbf{x}_0$ y una matriz real positiva y simétrica $\\mathbf{H}_0$.\r\n",
        "\r\n",
        "###### **Paso 2**\r\n",
        "Calcular $\\mathbf{g}_k=\\nabla f(\\mathbf{x}_k)$, si $\\mathbf{g}_k < \\epsilon$ se tiene un punto óptimo, de lo contrario calcular un $\\mathbf{d}_k=-\\mathbf{H}_k\\mathbf{g}_k$\r\n",
        "\r\n",
        "###### **Paso 3**\r\n",
        "Calcular: \r\n",
        "* $\\mathbf{x}_{k+1}=\\mathbf{x}_k+\\alpha_k\\mathbf{d}_k$\r\n",
        "* $\\alpha_k = \\min _{ \\alpha\\ge0 }{f(\\mathbf{x}_{k+1})} $\r\n",
        "\r\n",
        "###### **Paso 4**\r\n",
        "Calcular la estimación del Hessiano:\r\n",
        "* $$\\Delta\\mathbf{x}_k = \\alpha_k\\mathbf{d}_k$$\r\n",
        "* $$\\Delta\\mathbf{g}_k = \\mathbf{g}_{k+1} - \\mathbf{g}_k$$\r\n",
        "* $$\\mathbf{H}_{k+1} = \\mathbf{H}_k + \\frac{\\Delta\\mathbf{x}_k\\Delta\\mathbf{x}_k^T}{\\Delta\\mathbf{x}_k^T\\Delta\\mathbf{g}_k}-\\frac{(\\mathbf{H}_k\\Delta\\mathbf{g}_k)(\\mathbf{H}_k\\Delta\\mathbf{g}_k)^T}{\\Delta\\mathbf{g}^T\\mathbf{H}_k\\Delta\\mathbf{g}_k}$$\r\n",
        "\r\n",
        "###### **Paso 5**\r\n",
        "Iterar desde el paso 2 hasta encontrar una solución.\r\n",
        "\r\n"
      ]
    },
    {
      "cell_type": "markdown",
      "metadata": {
        "id": "wkycYOKqYjvT"
      },
      "source": [
        "#### **Ejemplo**\r\n",
        "En el libro de referencia, se propone:\r\n",
        "$$ f(\\mathbf{x}) = \\frac{1}{2}\\mathbf{x}^T \\begin{bmatrix} 4 & 2 \\\\ 2 & 2 \\end{bmatrix} \\mathbf{x}-\\mathbf{x}^T \\begin{bmatrix} -1 \\\\ 1 \\end{bmatrix}$$.\r\n",
        "\r\n",
        "##### **Solución**\r\n",
        "Se tiene que:\r\n",
        "* $\\mathbf{g}_k = \\begin{bmatrix} 4 & 2 \\\\ 2 & 2 \\end{bmatrix}\\mathbf{x}_k - \\begin{bmatrix} -1 \\\\ 1 \\end{bmatrix}$ porque $f$ es cuadrática.\r\n",
        "* Al resolver el $\\alpha_k=\\min_{\\alpha\\ge0}{f(\\mathbf{x}_{k+1})}$ se llega a que $\\alpha_k = -\\frac{\\mathbf{g}_k^T\\mathbf{d}_k}{\\mathbf{d}_k^T\\mathbf{Q}\\mathbf{d}_k}$\r\n",
        "\r\n",
        "En el ejercicio se proponen los siguientes valores iniciales:\r\n",
        "* $\\mathbf{x}_0 = [0,0]^T$\r\n",
        "* $\\mathbf{H}_0 = \\mathbf{I}_2 = \\begin{bmatrix} 1 & 0 \\\\ 0 & 1 \\end{bmatrix}$\r\n",
        "\r\n",
        "Se procede a programar el algoritmo para este caso en particular.\r\n",
        "\r\n",
        "Primero, se programan funciones sencillas para calcular cada paso del algoritmo."
      ]
    },
    {
      "cell_type": "code",
      "metadata": {
        "id": "ylnokeoUK_-y"
      },
      "source": [
        "%matplotlib inline\r\n",
        "\r\n",
        "import numpy as np\r\n",
        "import matplotlib.pyplot as plt\r\n",
        "\r\n",
        "def calculate_g_k(x_k, Q, b):\r\n",
        "    g_k = (Q @ x_k) - b\r\n",
        "    return g_k\r\n",
        "\r\n",
        "def is_not_an_optimal_point(g_k, tol):\r\n",
        "    return (np.linalg.norm(g_k) > tol)\r\n",
        "\r\n",
        "def calculate_d_k(H_k, g_k):\r\n",
        "    return -(H_k @ g_k)\r\n",
        "\r\n",
        "def calculate_alpha_k(g_k,dk,Q):\r\n",
        "    alpha_k = -(g_k.T @ dk)/(dk.T @ Q @ dk)\r\n",
        "    return alpha_k[0][0]\r\n",
        "\r\n",
        "def calculate_x_k(x_k, d_k, alpha_k):\r\n",
        "    return x_k + alpha_k*d_k\r\n",
        "\r\n",
        "def calculate_delta_x_k(alpha_k, d_k):\r\n",
        "    return alpha_k*d_k\r\n",
        "\r\n",
        "def calculate_delta_g_k(x_k, Q, b, g_k):\r\n",
        "    g_k_new = calculate_g_k(x_k, Q, b)\r\n",
        "    return (g_k_new - g_k)\r\n",
        "\r\n",
        "def calculate_H_k(H_k, delta_x_k, delta_g_k):\r\n",
        "    first_term = H_k\r\n",
        "    second_term = (delta_x_k @ delta_x_k.T)/(delta_x_k.T @ delta_g_k)\r\n",
        "    third_term = -((H_k @ delta_g_k) @ (H_k @ delta_g_k).T)/(delta_g_k.T @ H_k @ delta_g_k)\r\n",
        "    return (first_term + second_term + third_term)"
      ],
      "execution_count": 68,
      "outputs": []
    },
    {
      "cell_type": "markdown",
      "metadata": {
        "id": "xwUlp1Ojm1Ni"
      },
      "source": [
        "Se procede a desarrollar y verificar el algoritmo y los resultados, con los resultados dados en el libro, por ello, se hace una depuración paso a paso."
      ]
    },
    {
      "cell_type": "code",
      "metadata": {
        "colab": {
          "base_uri": "https://localhost:8080/"
        },
        "id": "93IsQRDgfHnX",
        "outputId": "78ad6b68-86ac-4b49-a498-0d1913c7847a"
      },
      "source": [
        "def dfp_algorithm_debug(Q, b, x0, H0, tol):\r\n",
        "    xk = []\r\n",
        "    Hk = []\r\n",
        "    gk = []\r\n",
        "    dk = []\r\n",
        "    alpha_k = []\r\n",
        "    delta_xk = []\r\n",
        "    delta_gk = []\r\n",
        "\r\n",
        "    xk.append(x0)\r\n",
        "    Hk.append(H0)\r\n",
        "\r\n",
        "\r\n",
        "    gk.append(calculate_g_k(xk[-1],Q,b))\r\n",
        "    print(\"g0 is = \", gk[-1])\r\n",
        "    \r\n",
        "    # while (is_not_an_optimal_point(gk, tol)):\r\n",
        "    dk.append(calculate_d_k(Hk[-1], gk[-1]))\r\n",
        "    print(\"d0 is \", dk[-1])\r\n",
        "\r\n",
        "    alpha_k.append(calculate_alpha_k(gk[-1], dk[-1], Q))\r\n",
        "    print(\"alpha_0 is \", alpha_k[-1])\r\n",
        "\r\n",
        "    xk.append(calculate_x_k(xk[-1], dk[-1], alpha_k[-1]))\r\n",
        "    print(\"x1 is \", xk[-1])\r\n",
        "\r\n",
        "    delta_xk.append(calculate_delta_x_k(alpha_k[-1], dk[-1]))\r\n",
        "    print(\"delta_x0 is \", delta_xk[-1])\r\n",
        "\r\n",
        "    delta_gk.append(calculate_delta_g_k(xk[-1], Q, b, gk[-1]))\r\n",
        "    print(\"delta g0 is \", delta_gk[-1])\r\n",
        "\r\n",
        "    gk.append(calculate_g_k(xk[-1],Q,b))\r\n",
        "    print(\"g1 is = \", gk[-1])\r\n",
        "\r\n",
        "    Hk.append(calculate_H_k(Hk[-1],delta_xk[-1], delta_gk[-1]))\r\n",
        "    print(\"H1 is \", Hk[-1])\r\n",
        "\r\n",
        "    dk.append(calculate_d_k(Hk[-1], gk[-1]))\r\n",
        "    print(\"d1 is \", dk[-1])\r\n",
        "\r\n",
        "    alpha_k.append(calculate_alpha_k(gk[-1], dk[-1], Q))\r\n",
        "    print(\"alpha_1 is \", alpha_k[-1])\r\n",
        "\r\n",
        "    xk.append(calculate_x_k(xk[-1], dk[-1], alpha_k[-1]))\r\n",
        "    print(\"x2 is \", xk[-1])\r\n",
        "\r\n",
        "Q = np.array([[4,2],[2,2]])\r\n",
        "b = np.array([[-1],[1]])\r\n",
        "x0 = np.array([[0],[0]])\r\n",
        "H0 = np.eye(2)\r\n",
        "tol = 0.5\r\n",
        "\r\n",
        "dfp_algorithm_debug(Q, b, x0, H0, tol)\r\n"
      ],
      "execution_count": 69,
      "outputs": [
        {
          "output_type": "stream",
          "text": [
            "g0 is =  [[ 1]\n",
            " [-1]]\n",
            "d0 is  [[-1.]\n",
            " [ 1.]]\n",
            "alpha_0 is  1.0\n",
            "x1 is  [[-1.]\n",
            " [ 1.]]\n",
            "delta_x0 is  [[-1.]\n",
            " [ 1.]]\n",
            "delta g0 is  [[-2.]\n",
            " [ 0.]]\n",
            "g1 is =  [[-1.]\n",
            " [-1.]]\n",
            "H1 is  [[ 0.5 -0.5]\n",
            " [-0.5  1.5]]\n",
            "d1 is  [[-0.]\n",
            " [ 1.]]\n",
            "alpha_1 is  0.5\n",
            "x2 is  [[-1. ]\n",
            " [ 1.5]]\n"
          ],
          "name": "stdout"
        }
      ]
    },
    {
      "cell_type": "markdown",
      "metadata": {
        "id": "zfazK-l6nIeT"
      },
      "source": [
        "Se puede ver que estos son los mismos resultados dados en el libro.\r\n",
        "\r\n",
        "Ahora, se hace un algoritmo iterativo real:"
      ]
    },
    {
      "cell_type": "code",
      "metadata": {
        "id": "jR5CwAbQnReW"
      },
      "source": [
        "def dfp_algorithm_debug(Q, b, x0, H0, tol):\r\n",
        "    xk = []\r\n",
        "    Hk = []\r\n",
        "    gk = []\r\n",
        "    dk = []\r\n",
        "    alpha_k = []\r\n",
        "    delta_xk = []\r\n",
        "    delta_gk = []\r\n",
        "\r\n",
        "    xk.append(x0)\r\n",
        "    Hk.append(H0)\r\n",
        "\r\n",
        "    gk.append(calculate_g_k(xk[-1],Q,b))\r\n",
        "\r\n",
        "    iterations = 0\r\n",
        "\r\n",
        "    while (is_not_an_optimal_point(gk[-1], tol)):\r\n",
        "        dk.append(calculate_d_k(Hk[-1], gk[-1]))\r\n",
        "        alpha_k.append(calculate_alpha_k(gk[-1], dk[-1], Q))\r\n",
        "        xk.append(calculate_x_k(xk[-1], dk[-1], alpha_k[-1]))\r\n",
        "        delta_xk.append(calculate_delta_x_k(alpha_k[-1], dk[-1]))\r\n",
        "        delta_gk.append(calculate_delta_g_k(xk[-1], Q, b, gk[-1]))\r\n",
        "        gk.append(calculate_g_k(xk[-1],Q,b))\r\n",
        "        Hk.append(calculate_H_k(Hk[-1],delta_xk[-1], delta_gk[-1]))\r\n",
        "\r\n",
        "        iterations +=1\r\n",
        "\r\n",
        "    print(\"Total iterations = \", iterations)\r\n",
        "\r\n",
        "    return xk[-1]\r\n",
        "\r\n"
      ],
      "execution_count": 70,
      "outputs": []
    },
    {
      "cell_type": "markdown",
      "metadata": {
        "id": "m8XzxNJNpVhi"
      },
      "source": [
        "Analíticamente, se puede reescribir $f(\\mathbf{x})$ así:\r\n",
        "\r\n",
        "$$f(x_1,x_2) = 2x_1^2+2x_1x_2+x_2^2 + x_1 - x_2$$\r\n",
        "Donde $\\mathbf{x} = [x1, x2]^T$"
      ]
    },
    {
      "cell_type": "code",
      "metadata": {
        "colab": {
          "base_uri": "https://localhost:8080/",
          "height": 329
        },
        "id": "DFXVFoEzpWRP",
        "outputId": "df63a586-c073-4741-d945-f5391aac0b01"
      },
      "source": [
        "Q = np.array([[4,2],[2,2]])\r\n",
        "b = np.array([[-1],[1]])\r\n",
        "x0 = np.array([[1],[-1]])\r\n",
        "H0 = np.eye(2)\r\n",
        "tol = 0.5\r\n",
        "\r\n",
        "x_opt = dfp_algorithm_debug(Q, b, x0, H0, tol)\r\n",
        "\r\n",
        "delta = 0.025\r\n",
        "X1 = np.arange(-8.0, 8.0, delta)\r\n",
        "X2 = np.arange(-8.0, 8.0, delta)\r\n",
        "x1, x2 = np.meshgrid(X1, X2)\r\n",
        "\r\n",
        "f = 2*x1**2 + 2*x1*x2 + x2**2 + x1 -x2\r\n",
        "\r\n",
        "plt.contourf(x1,x2,f)\r\n",
        "plt.scatter(x_opt[0],x_opt[1], marker = '*', color = 'r')\r\n",
        "plt.title(\"Contour map and x_opt \")\r\n",
        "plt.xlabel('x1')\r\n",
        "plt.ylabel('x2')"
      ],
      "execution_count": 71,
      "outputs": [
        {
          "output_type": "stream",
          "text": [
            "Total iterations =  2\n"
          ],
          "name": "stdout"
        },
        {
          "output_type": "execute_result",
          "data": {
            "text/plain": [
              "Text(0, 0.5, 'x2')"
            ]
          },
          "metadata": {
            "tags": []
          },
          "execution_count": 71
        },
        {
          "output_type": "display_data",
          "data": {
            "image/png": "[encoded data removed]",
            "text/plain": [
              "<Figure size 432x288 with 1 Axes>"
            ]
          },
          "metadata": {
            "tags": [],
            "needs_background": "light"
          }
        }
      ]
    }
  ]
}